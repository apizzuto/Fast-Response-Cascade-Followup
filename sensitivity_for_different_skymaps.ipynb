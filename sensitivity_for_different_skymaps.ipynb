{
 "cells": [
  {
   "cell_type": "code",
   "execution_count": null,
   "metadata": {},
   "outputs": [],
   "source": [
    "%matplotlib inline"
   ]
  },
  {
   "cell_type": "code",
   "execution_count": null,
   "metadata": {},
   "outputs": [],
   "source": [
    "import numpy as np\n",
    "import matplotlib.pyplot as plt\n",
    "from glob import glob\n",
    "import os, sys\n",
    "import matplotlib as mpl\n",
    "import healpy as hp\n",
    "from matplotlib.colors import LogNorm\n",
    "from matplotlib.lines import Line2D\n",
    "from matplotlib.collections import LineCollection\n",
    "import pickle\n",
    "\n",
    "from importlib import reload\n",
    "\n",
    "mpl.style.use('/home/apizzuto/Nova/scripts/novae_plots.mplstyle')\n",
    "mpl.rcParams['axes.linewidth'] = 2.\n",
    "mpl.rcParams['figure.dpi'] = 120\n",
    "\n",
    "import sensitivity_fit_functions as sff\n",
    "\n",
    "import seaborn as sns\n",
    "palette = ['#7fc97f', '#beaed4', '#fdc086', '#ffff99', '#386cb0', '#f0027f']"
   ]
  },
  {
   "cell_type": "code",
   "execution_count": null,
   "metadata": {},
   "outputs": [],
   "source": [
    "reload(sff)"
   ]
  },
  {
   "cell_type": "markdown",
   "metadata": {},
   "source": [
    "# First, calculate sensitivities vs. dec for different time windows"
   ]
  },
  {
   "cell_type": "code",
   "execution_count": null,
   "metadata": {
    "scrolled": true
   },
   "outputs": [],
   "source": [
    "sens_cols = [sns.xkcd_rgb['navy blue'], sns.xkcd_rgb['navy green'], sns.xkcd_rgb['deep magenta']]\n",
    "disc_cols = [sns.xkcd_rgb['light navy blue'], sns.xkcd_rgb['lighter green'], sns.xkcd_rgb['light magenta']]\n",
    "\n",
    "delta_ts = np.array([1000., 2*86400.])\n",
    "sensitivities = np.zeros((2, 16))\n",
    "discoveries = np.zeros((2, 16))\n",
    "\n",
    "for jj, delta_t in enumerate(delta_ts[:]):\n",
    "    casc_calc = sff.CascadeCalculator(delta_t)\n",
    "    sensitivities[jj], discoveries[jj] = casc_calc.find_all_sens(disc_conf=0.5,\n",
    "        disc_thresh=1.-0.0013, verbose=False)\n",
    "    \n",
    "decs_by_ind = casc_calc.cascade_info['dec'][::4]"
   ]
  },
  {
   "cell_type": "markdown",
   "metadata": {},
   "source": [
    "Next, load the ideal sensitivity for a point source using Tessa's sample (ps_tracks_v003_p02). We will reference this line in our plots"
   ]
  },
  {
   "cell_type": "code",
   "execution_count": null,
   "metadata": {},
   "outputs": [],
   "source": [
    "time_labels = [r'$10^3$ s', '2 days']\n",
    "\n",
    "time_integrated = {'sens': [], 'disc': [], 'sinDec': []}\n",
    "sinDecs = np.linspace(-0.95, 0.95, 39)\n",
    "decs = np.arcsin(sinDecs) * 180. / np.pi\n",
    "for dec in decs[:]:\n",
    "    try:\n",
    "        with open('/data/user/apizzuto/fast_response_skylab/fast-response/fast_response/combined_tracks_2.5/results/EstSens_PointSourceTracks_v003p00_10yrs_dec_{:.2f}_degrees.pickle'.format(dec), 'rb') as f:\n",
    "            data = pickle.load(f, encoding='latin1')\n",
    "    except Exception as e:\n",
    "        try:\n",
    "            with open('/data/user/apizzuto/fast_response_skylab/fast-response/fast_response/combined_tracks_2.5/results/EstSens_PointSourceTracks_v003p00_10yrs_dec_{:.1f}_degrees.pickle'.format(dec), 'rb') as f:\n",
    "                data = pickle.load(f, encoding='latin1')\n",
    "        except Exception as e:\n",
    "            print(e)\n",
    "    time_integrated['sens'].append(data['sensitivity_flux'])\n",
    "    time_integrated['disc'].append(data['discovery_flux'])\n",
    "    time_integrated['sinDec'].append(np.sin(dec * np.pi / 180.))\n",
    "    \n",
    "time_integrated['sens'] = np.array(time_integrated['sens'])\n",
    "time_integrated['disc'] = np.array(time_integrated['disc'])"
   ]
  },
  {
   "cell_type": "markdown",
   "metadata": {},
   "source": [
    "## Now, make some plots\n",
    "\n",
    "We will, in addition to comparing to Tessa's analysis, also compare to the fast response analysis sensitivities for a perfectly localized point source (as opposed to using the skymap procedure we use)"
   ]
  },
  {
   "cell_type": "code",
   "execution_count": null,
   "metadata": {
    "scrolled": true
   },
   "outputs": [],
   "source": [
    "for ii, delta_t in enumerate(delta_ts[:]):\n",
    "    try:\n",
    "        fig = plt.figure(dpi=200)\n",
    "        fig.set_facecolor('white')\n",
    "        with open('/data/user/apizzuto/fast_response_skylab/dump/ideal_ps_sensitivity_deltaT_{:.2e}_50CL.pkl'.format(delta_t / 86400.), 'rb') as f:\n",
    "            ideal = pickle.load(f, encoding='latin1')\n",
    "        msk = sensitivities[ii]*delta_t*1e6 < 1e2\n",
    "        plt.scatter(np.sin(decs_by_ind)[msk], sensitivities[ii][msk]*delta_t*1e6, \n",
    "                    color=sens_cols[ii], \n",
    "                    marker='^', label = 'Alert sensitivity', s=30)\n",
    "        plt.scatter(np.sin(decs_by_ind)[msk], discoveries[ii][msk]*delta_t*1e6, \n",
    "                    color=sens_cols[ii], \n",
    "                    marker='2', linestyle='--', label = 'Alert discovery', s=30)\n",
    "        \n",
    "        plt.plot(ideal['sinDec'], np.array(ideal['sensitivity'])*delta_t*1e6, lw=3, ls='-', \n",
    "                 color=sens_cols[ii], label = 'P.S. sensitivity', alpha=0.7)\n",
    "        plt.plot(ideal['sinDec'], np.array(ideal['discovery'])*delta_t*1e6, lw=3, ls='--', \n",
    "                 color=sens_cols[ii], label = r'P.S. $3\\sigma$ discovery' +'\\n\\t(50\\% CL)', \n",
    "                 alpha=0.7)\n",
    "        plt.plot(time_integrated['sinDec'], time_integrated['sens'] * 86400. * 10. * 365. * 1e6,\n",
    "                color = sns.xkcd_rgb['light grey'],\n",
    "                alpha = 0.7, ls='-')\n",
    "        plt.plot(time_integrated['sinDec'], time_integrated['disc'] * 86400. * 10. *365.* 1e6, \n",
    "                color = sns.xkcd_rgb['light grey'],\n",
    "                alpha = 0.7, ls='--')\n",
    "\n",
    "        plt.grid(which='both', alpha=0.2, zorder=1)\n",
    "        plt.yscale('log')\n",
    "        plt.legend(loc=1, ncol=1, frameon=True, fontsize=14) #columnspacing=0.6, frameon=False)\n",
    "        #plt.loglog()\n",
    "        plt.xlabel(r'$\\sin \\delta$')\n",
    "        plt.title(r'$\\Delta T = $' + time_labels[ii])\n",
    "        plt.ylabel(r'$E^2 \\frac{dN_{\\nu+\\bar{\\nu}}}{dEdA} \\Big|_{\\mathrm{1 TeV}}$ (GeV cm$^{-2}$)')\n",
    "        plt.ylim(3e-2, 3e2)\n",
    "        plt.text(0.03, 1e0, '10 yr. time-integrated', color = sns.xkcd_rgb['light grey'])\n",
    "        #plt.xlim(5e0, 1.5e7)\n",
    "    except Exception as e:\n",
    "        print(e)\n",
    "    plt.show()"
   ]
  },
  {
   "cell_type": "markdown",
   "metadata": {},
   "source": [
    "# Background Trial Panel Plots\n",
    "\n",
    "The first plots were fairly high level. Now, take a step back and look at distributions and fitting plots"
   ]
  },
  {
   "cell_type": "code",
   "execution_count": null,
   "metadata": {},
   "outputs": [],
   "source": [
    "bins = np.linspace(0., 20., 21)\n",
    "\n",
    "for delta_t in [1000., 86400.*2.]:\n",
    "    casc_calc = sff.CascadeCalculator(delta_t)\n",
    "    bg = np.array(casc_calc.background_distribution(4))\n",
    "    plt.hist(bg, bins=bins, histtype='step', lw=2.)\n",
    "\n",
    "    plt.yscale('log')\n",
    "    plt.xlabel('TS')\n",
    "    plt.ylabel('$N$')\n",
    "    #plt.legend()\n",
    "    plt.title(r'$\\Delta T = $' + f'{casc_calc.delta_t} seconds')\n",
    "\n",
    "    plt.show()"
   ]
  },
  {
   "cell_type": "code",
   "execution_count": null,
   "metadata": {},
   "outputs": [],
   "source": [
    "bins = np.linspace(0., 20., 21)\n",
    "\n",
    "for delta_t in np.array([1000., 2.*86400.]):\n",
    "    fig, aaxs = plt.subplots(ncols=4, nrows=4, figsize=(13,10), \n",
    "                            sharey=True, sharex=True)\n",
    "    used_axs = []\n",
    "    axs = aaxs.ravel()\n",
    "    plt.subplots_adjust(hspace=0.1, wspace=0.1)\n",
    "    casc_calc = sff.CascadeCalculator(delta_t)\n",
    "    for ind in range(0, 62, 4):\n",
    "        if ind == 44:\n",
    "            continue\n",
    "        plt_ind = ind//4\n",
    "        if ind > 43:\n",
    "            plt_ind -= 1\n",
    "        try:\n",
    "            bg = np.array(casc_calc.background_distribution(ind))\n",
    "            axs[plt_ind].hist(bg, bins=bins, histtype='step', lw=2.)\n",
    "            \n",
    "            axs[plt_ind].set_yscale('log')\n",
    "            axs[plt_ind].set_ylim(0.8e0, 2e4)\n",
    "            \n",
    "            if plt_ind // 4 == 3:\n",
    "                axs[plt_ind].set_xlabel('TS')\n",
    "            if plt_ind % 4 == 0:\n",
    "                axs[plt_ind].set_ylabel('$N$')\n",
    "            used_axs.append(axs[plt_ind])\n",
    "        except (IOError, ValueError, IndexError) as err:\n",
    "            pass\n",
    "    for ax in axs:\n",
    "        if ax not in used_axs:\n",
    "            ax.set_visible(False)\n",
    "    fig.suptitle(r'$\\Delta T = $' + '{:.1e} s'.format(delta_t), y=0.92)\n",
    "    plt.show()"
   ]
  },
  {
   "cell_type": "markdown",
   "metadata": {},
   "source": [
    "# Fit validation panel plots"
   ]
  },
  {
   "cell_type": "code",
   "execution_count": null,
   "metadata": {},
   "outputs": [],
   "source": [
    "delta_t = 1000.\n",
    "casc_calc = sff.CascadeCalculator(delta_t)\n",
    "casc_calc.ns_fits_contours_plot(12, show=False, legend=True)\n",
    "plt.xlim(0., 11)\n",
    "plt.ylim(0., 11.)"
   ]
  },
  {
   "cell_type": "code",
   "execution_count": null,
   "metadata": {
    "scrolled": true
   },
   "outputs": [],
   "source": [
    "for delta_t in np.array([1000., 2.*86400.]):\n",
    "    fig, aaxs = plt.subplots(ncols=4, nrows=4, figsize=(13,10), \n",
    "                            sharey=True, sharex=True)\n",
    "    used_axs = []\n",
    "    axs = aaxs.ravel()\n",
    "    plt.subplots_adjust(hspace=0.1, wspace=0.1)\n",
    "    casc_calc = sff.CascadeCalculator(delta_t)\n",
    "    for ind in range(0, 62, 4):\n",
    "        if ind == 44:\n",
    "            continue\n",
    "        plt_ind = ind//4\n",
    "        if ind > 43:\n",
    "            plt_ind -= 1\n",
    "        xlab = plt_ind // 4 == 3\n",
    "        ylab = plt_ind % 4 == 0 \n",
    "        try:\n",
    "            casc_calc.ns_fits_contours_plot(ind, show=False,\n",
    "                ax=axs[plt_ind], xlabel=xlab, ylabel=ylab, legend=False)\n",
    "            used_axs.append(axs[plt_ind])\n",
    "        except (IOError, ValueError, IndexError) as err:\n",
    "            print(err)\n",
    "    for ax in axs:\n",
    "        if ax not in used_axs:\n",
    "            ax.set_visible(False)\n",
    "    fig.suptitle(r'$\\Delta T = $' + '{:.1e} s'.format(delta_t), y=0.93)\n",
    "    plt.show()"
   ]
  },
  {
   "cell_type": "code",
   "execution_count": null,
   "metadata": {},
   "outputs": [],
   "source": [
    "legend_elements = [Line2D([0], [0], color='gray', ls='--', label='Injected'),\n",
    "                   Line2D([0], [0], marker='x', color='gray', label='Fit (50\\% cont.)', ls='')]\n",
    "\n",
    "for delta_t, delta_t_str in zip([1000., 172800.], \n",
    "        [r'$\\Delta T = 10^3$ s', r'$\\Delta T = 1.7\\times 10^5$ s']):\n",
    "    casc_calc = sff.CascadeCalculator(delta_t)\n",
    "    bias, spread = casc_calc.fitting_bias_summary()\n",
    "    for ii, sig in enumerate([2.0, 5.0]):\n",
    "        msk = np.array(bias[sig]) != 0.\n",
    "        plt.axhline(sig, ls='--', color=palette[ii])\n",
    "        plt.errorbar(np.r_[0:len(bias[sig])][msk], np.array(bias[sig])[msk], \n",
    "                    yerr=np.array(spread[sig])[msk],\n",
    "                    marker = 'x', ls='', color=palette[ii], lw=1.)\n",
    "    plt.ylim(1.0, 6.5)\n",
    "    plt.title(delta_t_str)\n",
    "    plt.xlabel('Archival cascade identifier')\n",
    "    plt.ylabel(r'$\\hat{n}_s$')\n",
    "    plt.legend(handles=legend_elements, ncol=2, loc=2)\n",
    "    plt.show()"
   ]
  },
  {
   "cell_type": "markdown",
   "metadata": {},
   "source": [
    "# Sensitivity efficiency curve panel plots"
   ]
  },
  {
   "cell_type": "code",
   "execution_count": null,
   "metadata": {},
   "outputs": [],
   "source": [
    "casc_calc = sff.CascadeCalculator(1000.)\n",
    "casc_calc.sensitivity_curve(12, in_ns=False, trim=-5)"
   ]
  },
  {
   "cell_type": "code",
   "execution_count": null,
   "metadata": {
    "scrolled": true
   },
   "outputs": [],
   "source": [
    "for delta_t in [1e3, 2.*86400.]:#np.append(np.logspace(1., 7., 7), np.array([2.*86400., 31.*86400.])):\n",
    "    fig, aaxs = plt.subplots(ncols=4, nrows=4, figsize=(13,10), \n",
    "                            sharey=True, sharex=False)\n",
    "    used_axs = []\n",
    "    axs = aaxs.ravel()\n",
    "    plt.subplots_adjust(hspace=0.2, wspace=0.1)\n",
    "    casc_calc = sff.CascadeCalculator(delta_t)\n",
    "    for ind in range(0, 62, 4):\n",
    "        plt_ind = ind//4\n",
    "        if ind > 43:\n",
    "            plt_ind -= 1\n",
    "        try:\n",
    "            casc_calc.sensitivity_curve(ind, ax = axs[plt_ind], in_ns=False, \n",
    "                              text=False, legend=False, trim=-5)\n",
    "            used_axs.append(axs[plt_ind])\n",
    "        except (IOError, ValueError, IndexError) as err:\n",
    "            pass\n",
    "    for ax in axs:\n",
    "        if ax not in used_axs:\n",
    "            ax.set_visible(False)\n",
    "    fig.suptitle(r'$\\Delta T = $' + '{:.1e} s'.format(delta_t), y=0.93)\n",
    "    plt.show()"
   ]
  },
  {
   "cell_type": "markdown",
   "metadata": {},
   "source": [
    "## Let's look at the distribution of hot spots for background only (and signal injected?) trials"
   ]
  },
  {
   "cell_type": "code",
   "execution_count": null,
   "metadata": {},
   "outputs": [],
   "source": [
    "casc_calc = sff.CascadeCalculator(1000.)\n",
    "casc_calc.plot_map_with_bg_scatter(8)"
   ]
  },
  {
   "cell_type": "code",
   "execution_count": null,
   "metadata": {},
   "outputs": [],
   "source": [
    "casc_calc = sff.CascadeCalculator(1000.)\n",
    "casc_calc.plot_zoom_with_bg_scatter(0)"
   ]
  },
  {
   "cell_type": "markdown",
   "metadata": {},
   "source": [
    "# DO this for opening angle for simulation between true injection and reco"
   ]
  },
  {
   "cell_type": "code",
   "execution_count": null,
   "metadata": {},
   "outputs": [],
   "source": [
    "def deltaPsi(dec1, ra1, dec2, ra2):\n",
    "    return deltaPsi2(np.sin(dec1), np.cos(dec1), np.sin(ra1), np.cos(ra1), np.sin(dec2), np.cos(dec2), np.sin(ra2), np.cos(ra2))\n",
    "\n",
    "def deltaPsi2(sDec1, cDec1, sRa1, cRa1, sDec2, cDec2, sRa2, cRa2):\n",
    "    tmp = cDec1*cRa1*cDec2*cRa2 + cDec1*sRa1*cDec2*sRa2 + sDec1*sDec2\n",
    "    tmp[tmp>1.] = 1.\n",
    "    tmp[tmp<-1.] = -1.\n",
    "    return np.arccos(tmp)"
   ]
  },
  {
   "cell_type": "code",
   "execution_count": null,
   "metadata": {},
   "outputs": [],
   "source": [
    "delta_t = 1000.\n",
    "ind = 4\n",
    "for ninj in np.linspace(1, 5, 2).astype(int):\n",
    "    casc_calc = sff.CascadeCalculator(delta_t)\n",
    "    signal = casc_calc.signal_distribution(ind, ninj)\n",
    "    inj_ra, inj_dec = signal['true_ra'], signal['true_dec']\n",
    "    reco_ra, reco_dec = signal['ra'], signal['dec']\n",
    "    del_psi = deltaPsi(reco_dec, reco_ra, inj_dec, inj_ra)\n",
    "    del_psi *= 180. / np.pi\n",
    "    plt.hist(del_psi, bins=np.linspace(0., 3., 21), histtype='step', lw=2., \n",
    "             density=True, label = r'$n_{\\mathrm{inj}}=$' + str(ninj))\n",
    "plt.ylabel(r'prob. density (deg.$^{-1}$)')\n",
    "plt.xlabel(r'$\\Delta \\Psi$ (source, reco)')\n",
    "plt.legend(loc=1)\n",
    "plt.show()"
   ]
  },
  {
   "cell_type": "code",
   "execution_count": null,
   "metadata": {},
   "outputs": [],
   "source": [
    "plt.close()"
   ]
  }
 ],
 "metadata": {
  "kernelspec": {
   "display_name": "Python 3",
   "language": "python",
   "name": "python3"
  },
  "language_info": {
   "codemirror_mode": {
    "name": "ipython",
    "version": 3
   },
   "file_extension": ".py",
   "mimetype": "text/x-python",
   "name": "python",
   "nbconvert_exporter": "python",
   "pygments_lexer": "ipython3",
   "version": "3.7.5"
  }
 },
 "nbformat": 4,
 "nbformat_minor": 2
}
